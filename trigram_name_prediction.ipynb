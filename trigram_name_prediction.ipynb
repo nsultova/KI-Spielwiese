{
 "cells": [
  {
   "cell_type": "markdown",
   "metadata": {},
   "source": [
    "Basic trigram model, Excercise 01 from karpathys lectures"
   ]
  },
  {
   "cell_type": "code",
   "execution_count": 6,
   "metadata": {},
   "outputs": [],
   "source": [
    "import torch\n",
    "from torch import nn"
   ]
  },
  {
   "cell_type": "code",
   "execution_count": 7,
   "metadata": {},
   "outputs": [
    {
     "data": {
      "text/plain": [
       "['emma',\n",
       " 'olivia',\n",
       " 'ava',\n",
       " 'isabella',\n",
       " 'sophia',\n",
       " 'charlotte',\n",
       " 'mia',\n",
       " 'amelia',\n",
       " 'harper',\n",
       " 'evelyn']"
      ]
     },
     "execution_count": 7,
     "metadata": {},
     "output_type": "execute_result"
    }
   ],
   "source": [
    "names = open('names.txt', 'r').read().splitlines()\n",
    "names[:10]"
   ]
  },
  {
   "cell_type": "code",
   "execution_count": 8,
   "metadata": {},
   "outputs": [],
   "source": [
    "# conversion functions\n",
    "chars = sorted(list(set(''.join(names))))\n",
    "stoi = {s:i+1 for i,s in enumerate(chars)}\n",
    "stoi['.'] = 0 # special char denoting start/end\n",
    "itos = {i:s for s,i in stoi.items()}"
   ]
  },
  {
   "cell_type": "code",
   "execution_count": 19,
   "metadata": {},
   "outputs": [],
   "source": [
    "\n",
    "# Generate trigrams and count occurences\n",
    "t = {}\n",
    "for n in names:\n",
    "    chs = ['.'] + list(n) + ['.']\n",
    "    for ch1, ch2, ch3 in zip(chs, chs[1:], chs[2:]):\n",
    "        trigram = (ch1, ch2, ch3)\n",
    "        t[trigram] =  t.get(trigram,0) +1\n",
    "\n"
   ]
  },
  {
   "cell_type": "code",
   "execution_count": 24,
   "metadata": {},
   "outputs": [],
   "source": [
    "N = torch.zeros((27,27,27), dtype=torch.int32)    \n",
    "for (ch1, ch2, ch3), count in t.items():\n",
    "    #print(f\" {ch1}{ch2}{ch3}   count {count}\")\n",
    "    ix1 = stoi[ch1]\n",
    "    ix2 = stoi[ch2]\n",
    "    ix3 = stoi[ch3]\n",
    "    N[ix1, ix2, ix3] =  count\n"
   ]
  },
  {
   "cell_type": "markdown",
   "metadata": {},
   "source": [
    "Notes:\n",
    "Add-one smoothing/Laplace-smoothing: avoid assigning a probability of 0 to unseen n-grams\n",
    "keepdim: True --> output tensor has same dimensions as input tensor\n"
   ]
  },
  {
   "cell_type": "code",
   "execution_count": 42,
   "metadata": {},
   "outputs": [
    {
     "data": {
      "text/plain": [
       "tensor([[[3.7037e-02, 3.7037e-02, 3.7037e-02,  ..., 3.7037e-02,\n",
       "          3.7037e-02, 3.7037e-02],\n",
       "         [2.2538e-04, 4.6879e-02, 4.3047e-02,  ..., 6.3106e-03,\n",
       "          3.9216e-02, 3.4483e-02],\n",
       "         [7.5019e-04, 1.2753e-01, 7.5019e-04,  ..., 7.5019e-04,\n",
       "          3.7509e-03, 7.5019e-04],\n",
       "         ...,\n",
       "         [6.2112e-03, 3.6025e-01, 6.2112e-03,  ..., 1.2422e-02,\n",
       "          1.1180e-01, 7.4534e-02],\n",
       "         [1.7794e-03, 4.3950e-01, 1.7794e-03,  ..., 1.7794e-03,\n",
       "          1.7794e-03, 5.3381e-03],\n",
       "         [1.0460e-03, 4.7803e-01, 1.0460e-03,  ..., 1.0460e-03,\n",
       "          9.6234e-02, 2.0921e-03]],\n",
       "\n",
       "        [[3.7037e-02, 3.7037e-02, 3.7037e-02,  ..., 3.7037e-02,\n",
       "          3.7037e-02, 3.7037e-02],\n",
       "         [7.0326e-02, 1.7153e-03, 1.0292e-02,  ..., 1.7153e-03,\n",
       "          3.6021e-02, 2.0583e-02],\n",
       "         [6.5141e-02, 5.1056e-02, 3.6972e-02,  ..., 1.7606e-03,\n",
       "          2.2887e-02, 1.7606e-03],\n",
       "         ...,\n",
       "         [5.7416e-02, 2.8708e-02, 4.7847e-03,  ..., 8.6124e-02,\n",
       "          3.3493e-02, 1.9139e-02],\n",
       "         [7.8960e-02, 1.8777e-01, 6.7405e-03,  ..., 4.8146e-04,\n",
       "          8.1849e-03, 1.9740e-02],\n",
       "         [8.4416e-02, 2.6840e-01, 2.1645e-03,  ..., 2.1645e-03,\n",
       "          2.8139e-02, 4.9784e-02]],\n",
       "\n",
       "        [[3.7037e-02, 3.7037e-02, 3.7037e-02,  ..., 3.7037e-02,\n",
       "          3.7037e-02, 3.7037e-02],\n",
       "         [1.3506e-01, 1.7241e-02, 1.7241e-02,  ..., 1.4368e-02,\n",
       "          9.1954e-02, 1.4368e-02],\n",
       "         [3.0769e-02, 1.3846e-01, 1.5385e-02,  ..., 1.5385e-02,\n",
       "          1.5385e-01, 1.5385e-02],\n",
       "         ...,\n",
       "         [3.7037e-02, 3.7037e-02, 3.7037e-02,  ..., 3.7037e-02,\n",
       "          3.7037e-02, 3.7037e-02],\n",
       "         [5.0909e-01, 4.5455e-02, 1.8182e-02,  ..., 9.0909e-03,\n",
       "          9.0909e-03, 9.0909e-03],\n",
       "         [3.7037e-02, 3.7037e-02, 3.7037e-02,  ..., 3.7037e-02,\n",
       "          3.7037e-02, 3.7037e-02]],\n",
       "\n",
       "        ...,\n",
       "\n",
       "        [[3.7037e-02, 3.7037e-02, 3.7037e-02,  ..., 3.7037e-02,\n",
       "          3.7037e-02, 3.7037e-02],\n",
       "         [8.4615e-02, 7.6923e-03, 2.3077e-02,  ..., 7.6923e-03,\n",
       "          8.4615e-02, 7.6923e-03],\n",
       "         [3.5714e-02, 3.5714e-02, 3.5714e-02,  ..., 3.5714e-02,\n",
       "          7.1429e-02, 3.5714e-02],\n",
       "         ...,\n",
       "         [2.9231e-01, 6.1538e-02, 1.5385e-02,  ..., 1.5385e-02,\n",
       "          3.0769e-02, 1.5385e-02],\n",
       "         [1.0526e-01, 8.7719e-02, 1.7544e-02,  ..., 1.7544e-02,\n",
       "          1.7544e-02, 1.7544e-02],\n",
       "         [2.1739e-02, 3.6957e-01, 2.1739e-02,  ..., 2.1739e-02,\n",
       "          2.1739e-02, 2.1739e-02]],\n",
       "\n",
       "        [[3.7037e-02, 3.7037e-02, 3.7037e-02,  ..., 3.7037e-02,\n",
       "          3.7037e-02, 3.7037e-02],\n",
       "         [3.3041e-01, 2.1659e-02, 5.0691e-03,  ..., 1.8433e-03,\n",
       "          3.2258e-03, 1.0138e-02],\n",
       "         [5.5556e-02, 5.5556e-02, 1.8519e-02,  ..., 1.8519e-02,\n",
       "          1.8519e-02, 1.8519e-02],\n",
       "         ...,\n",
       "         [4.3636e-01, 3.6364e-02, 1.8182e-02,  ..., 3.6364e-02,\n",
       "          1.8182e-02, 1.8182e-02],\n",
       "         [4.0000e-02, 3.8000e-01, 2.0000e-02,  ..., 2.0000e-02,\n",
       "          2.0000e-02, 2.0000e-02],\n",
       "         [2.8571e-02, 2.6667e-01, 9.5238e-03,  ..., 1.9048e-02,\n",
       "          9.5238e-03, 9.5238e-03]],\n",
       "\n",
       "        [[3.7037e-02, 3.7037e-02, 3.7037e-02,  ..., 3.7037e-02,\n",
       "          3.7037e-02, 3.7037e-02],\n",
       "         [1.1161e-01, 1.6911e-02, 4.6223e-02,  ..., 4.5096e-03,\n",
       "          1.1048e-01, 4.5096e-03],\n",
       "         [3.2258e-02, 3.2258e-02, 3.2258e-02,  ..., 3.2258e-02,\n",
       "          3.2258e-02, 3.2258e-02],\n",
       "         ...,\n",
       "         [7.1429e-02, 3.5714e-02, 3.5714e-02,  ..., 3.5714e-02,\n",
       "          3.5714e-02, 3.5714e-02],\n",
       "         [2.0115e-01, 1.6092e-01, 5.7471e-03,  ..., 5.7471e-03,\n",
       "          5.7471e-03, 1.1494e-02],\n",
       "         [6.9444e-02, 1.9444e-01, 1.3889e-02,  ..., 1.3889e-02,\n",
       "          1.1111e-01, 1.3889e-02]]])"
      ]
     },
     "execution_count": 42,
     "metadata": {},
     "output_type": "execute_result"
    }
   ],
   "source": [
    "#P(3rd char)/P(1+2nd char) --> trigram_count/count_all_trigrams_starting_with_same_bigram\n",
    "\n",
    "P = (N+1).float() # add-one smoothing\n",
    "P /= P.sum(2, keepdim=True) # Sum over 3rd dim and normalize\n",
    "P"
   ]
  },
  {
   "cell_type": "code",
   "execution_count": 48,
   "metadata": {},
   "outputs": [
    {
     "name": "stdout",
     "output_type": "stream",
     "text": [
      "viufel\n",
      "bett\n",
      "dan\n",
      "haea\n",
      "gian\n"
     ]
    }
   ],
   "source": [
    "for i in range(5):\n",
    "  out = ['.']\n",
    "  while True:\n",
    "    if len(out) < 2:\n",
    "      ix1 = ix2 = stoi[out[-1]]\n",
    "    else: \n",
    "      ix1 = stoi[out[-2]]\n",
    "      ix2 = stoi[out[-1]]\n",
    "    p = P[ix1,ix2] # p for next char \n",
    "    #p = torch.ones(27)/ 27.0  #sanity check that there is an effect actually --> make uniform distribution\n",
    "    ix3 = torch.multinomial(p,num_samples=1,replacement=True).item() # Get actual number\n",
    "    #print(f\"{itos[ix1] }{itos[ix2]} next best char: {itos[ix3]}\")\n",
    "    if ix3 == stoi['.']:\n",
    "      break\n",
    "    out.append(itos[ix3])\n",
    "\n",
    "  print(''.join(out[1:])) \n"
   ]
  }
 ],
 "metadata": {
  "kernelspec": {
   "display_name": "ml-exercises-VqUQgDz3-py3.11",
   "language": "python",
   "name": "python3"
  },
  "language_info": {
   "codemirror_mode": {
    "name": "ipython",
    "version": 3
   },
   "file_extension": ".py",
   "mimetype": "text/x-python",
   "name": "python",
   "nbconvert_exporter": "python",
   "pygments_lexer": "ipython3",
   "version": "3.11.6"
  }
 },
 "nbformat": 4,
 "nbformat_minor": 2
}
