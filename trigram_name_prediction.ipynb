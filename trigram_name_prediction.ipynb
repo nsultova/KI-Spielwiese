{
 "cells": [
  {
   "cell_type": "markdown",
   "metadata": {},
   "source": [
    "Basic trigram model, Excercise 01 from karpathys lectures"
   ]
  },
  {
   "cell_type": "code",
   "execution_count": 6,
   "metadata": {},
   "outputs": [],
   "source": [
    "import torch\n",
    "from torch import nn"
   ]
  },
  {
   "cell_type": "code",
   "execution_count": 7,
   "metadata": {},
   "outputs": [
    {
     "data": {
      "text/plain": [
       "['emma',\n",
       " 'olivia',\n",
       " 'ava',\n",
       " 'isabella',\n",
       " 'sophia',\n",
       " 'charlotte',\n",
       " 'mia',\n",
       " 'amelia',\n",
       " 'harper',\n",
       " 'evelyn']"
      ]
     },
     "execution_count": 7,
     "metadata": {},
     "output_type": "execute_result"
    }
   ],
   "source": [
    "names = open('names.txt', 'r').read().splitlines()\n",
    "names[:10]"
   ]
  },
  {
   "cell_type": "code",
   "execution_count": 8,
   "metadata": {},
   "outputs": [],
   "source": [
    "# conversion functions\n",
    "chars = sorted(list(set(''.join(names))))\n",
    "stoi = {s:i+1 for i,s in enumerate(chars)}\n",
    "stoi['.'] = 0 # special char denoting start/end\n",
    "itos = {i:s for s,i in stoi.items()}"
   ]
  },
  {
   "cell_type": "code",
   "execution_count": 19,
   "metadata": {},
   "outputs": [],
   "source": [
    "\n",
    "# Generate trigrams and count occurences\n",
    "t = {}\n",
    "for n in names:\n",
    "    chs = ['.'] + list(n) + ['.']\n",
    "    for ch1, ch2, ch3 in zip(chs, chs[1:], chs[2:]):\n",
    "        trigram = (ch1, ch2, ch3)\n",
    "        t[trigram] =  t.get(trigram,0) +1\n",
    "\n"
   ]
  },
  {
   "cell_type": "code",
   "execution_count": 24,
   "metadata": {},
   "outputs": [],
   "source": [
    "N = torch.zeros((27,27,27), dtype=torch.int32)    \n",
    "for (ch1, ch2, ch3), count in t.items():\n",
    "    #print(f\" {ch1}{ch2}{ch3}   count {count}\")\n",
    "    ix1 = stoi[ch1]\n",
    "    ix2 = stoi[ch2]\n",
    "    ix3 = stoi[ch3]\n",
    "    N[ix1, ix2, ix3] =  count\n"
   ]
  },
  {
   "cell_type": "markdown",
   "metadata": {},
   "source": [
    "Notes:\n",
    "Add-one smoothing/Laplace-smoothing: avoid assigning a probability of 0 to unseen n-grams\n",
    "keepdim: True --> output tensor has same dimensions as input tensor\n"
   ]
  },
  {
   "cell_type": "code",
   "execution_count": 25,
   "metadata": {},
   "outputs": [],
   "source": [
    "#P(3rd char)/P(1+2nd char) --> trigram_count/count_all_trigrams_starting_with_same_bigram\n",
    "\n",
    "P = (N+1).float() # add-one smoothing\n",
    "P /= P.sum(2, keepdim=True) # Sum over 3rd dim and normalize"
   ]
  },
  {
   "cell_type": "code",
   "execution_count": 27,
   "metadata": {},
   "outputs": [
    {
     "name": "stdout",
     "output_type": "stream",
     "text": [
      "fxpw\n",
      "taliani\n",
      "pe\n",
      "belle\n",
      "lyaquiz\n"
     ]
    }
   ],
   "source": [
    "for i in range(5):\n",
    "  out = ['.']\n",
    "  while True:\n",
    "    if len(out) < 2:\n",
    "      ix1 = ix2 = stoi[out[-1]]\n",
    "    else: \n",
    "      ix1 = stoi[out[-2]]\n",
    "      ix2 = stoi[out[-1]]\n",
    "    p = P[ix1,ix2] # p for next char\n",
    "    ix3 = torch.multinomial(p,num_samples=1,replacement=True).item() # Get actual number\n",
    "    if ix3 == stoi['.']:\n",
    "      break\n",
    "    out.append(itos[ix3])\n",
    "\n",
    "  print(''.join(out[1:])) \n"
   ]
  }
 ],
 "metadata": {
  "kernelspec": {
   "display_name": "ml-exercises-VqUQgDz3-py3.11",
   "language": "python",
   "name": "python3"
  },
  "language_info": {
   "codemirror_mode": {
    "name": "ipython",
    "version": 3
   },
   "file_extension": ".py",
   "mimetype": "text/x-python",
   "name": "python",
   "nbconvert_exporter": "python",
   "pygments_lexer": "ipython3",
   "version": "3.11.6"
  }
 },
 "nbformat": 4,
 "nbformat_minor": 2
}
