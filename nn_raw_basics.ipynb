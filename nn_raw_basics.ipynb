{
 "cells": [
  {
   "cell_type": "markdown",
   "id": "4da81fc8",
   "metadata": {},
   "source": [
    "### Raw basics\n",
    "Some under-the-hood for building intuition"
   ]
  }
 ],
 "metadata": {
  "kernelspec": {
   "display_name": "Python 3",
   "language": "python",
   "name": "python3"
  },
  "language_info": {
   "name": "python",
   "version": "3.12.10"
  }
 },
 "nbformat": 4,
 "nbformat_minor": 5
}
