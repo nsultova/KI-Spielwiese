{
 "cells": [
  {
   "cell_type": "markdown",
   "id": "4da81fc8",
   "metadata": {},
   "source": [
    "### Raw basics\n",
    "Some under-the-hood for building intuition"
   ]
  },
  {
   "cell_type": "markdown",
   "id": "1305d19c",
   "metadata": {},
   "source": [
    "##### Basic Neuron\n",
    "\n",
    "              ┌─────────────────────────────────────────────┐\n",
    "              │               Neuron                        │\n",
    "              │                                             │\n",
    "  Inputs      │     Weights         Computation             │    Output\n",
    "              │                                             │\n",
    "   x₁ = 0.5 ──┼──>  w₁ = 0.2 ──┐                            │\n",
    "              │                │                            │\n",
    "   x₂ = 1.0 ──┼──>  w₂ = 0.8 ──┼─► z = Σ(wᵢxᵢ) + b          │\n",
    "              │                │    = 0.2×0.5 + 0.8×1.0     │\n",
    "   x₃ = 0.3 ──┼──>  w₃ = -0.1 ─┤    + (-0.1)×0.3 + 0.5      │\n",
    "              │                │    = 0.1 + 0.8 - 0.03 + 0.5│       ┌─────┐\n",
    "              │                │    = 1.37                  ├───►   │ 1   │  = 0.798\n",
    "              │                │                            │       │─────│\n",
    "              │     bias = 0.5 ┘                            │       │1+e⁻ᶻ│\n",
    "              │                                             │       └─────┘\n",
    "              └─────────────────────────────────────────────┘\n",
    "\n"
   ]
  },
  {
   "cell_type": "code",
   "execution_count": 2,
   "id": "0cbf716b",
   "metadata": {},
   "outputs": [],
   "source": [
    "import math\n",
    "import random\n",
    "\n",
    "class Neuron:\n",
    "    def __init__(self, num_inputs):\n",
    "        self.weights = [random.uniform(-1, 1) for _ in range(num_inputs)]\n",
    "        self.bias = random.uniform(-1, 1)\n",
    "    \n",
    "    def activate(self, inputs):\n",
    "        weighted_sum = sum(w * x for w, x in zip(self.weights, inputs)) + self.bias\n",
    "        return self.sigmoid(weighted_sum)\n",
    "    \n",
    "    def sigmoid(self, x):\n",
    "        return 1 / (1 + math.exp(-x))"
   ]
  }
 ],
 "metadata": {
  "kernelspec": {
   "display_name": "Python 3",
   "language": "python",
   "name": "python3"
  },
  "language_info": {
   "codemirror_mode": {
    "name": "ipython",
    "version": 3
   },
   "file_extension": ".py",
   "mimetype": "text/x-python",
   "name": "python",
   "nbconvert_exporter": "python",
   "pygments_lexer": "ipython3",
   "version": "3.12.10"
  }
 },
 "nbformat": 4,
 "nbformat_minor": 5
}
