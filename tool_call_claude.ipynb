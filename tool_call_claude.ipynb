{
  "cells": [
    {
      "cell_type": "markdown",
      "metadata": {
        "id": "YXshKfQGRQaS"
      },
      "source": [
        "Idea: Test how to make calls including custom tooling\n",
        "Initial Query: Send weather question to Claude with the tool definition\n",
        "\n",
        "Tool Call: Claude recognizes this as a weather question and responds with a special \"tool_use\" message containing the location it extracted\n",
        "\n",
        "Tool Execution: Execute actual weather function with this location and send results back to Claude\n",
        "\n",
        "Response: Claude formats a natural language response using the weather data"
      ]
    },
    {
      "cell_type": "code",
      "execution_count": null,
      "metadata": {
        "colab": {
          "base_uri": "https://localhost:8080/"
        },
        "id": "HCNMlllEFkBs",
        "outputId": "d83c86c4-c913-40df-909d-70a1e4706726"
      },
      "outputs": [
        {
          "name": "stdout",
          "output_type": "stream",
          "text": [
            "Requirement already satisfied: anthropic in /usr/local/lib/python3.11/dist-packages (0.49.0)\n",
            "Requirement already satisfied: anyio<5,>=3.5.0 in /usr/local/lib/python3.11/dist-packages (from anthropic) (4.9.0)\n",
            "Requirement already satisfied: distro<2,>=1.7.0 in /usr/local/lib/python3.11/dist-packages (from anthropic) (1.9.0)\n",
            "Requirement already satisfied: httpx<1,>=0.23.0 in /usr/local/lib/python3.11/dist-packages (from anthropic) (0.28.1)\n",
            "Requirement already satisfied: jiter<1,>=0.4.0 in /usr/local/lib/python3.11/dist-packages (from anthropic) (0.9.0)\n",
            "Requirement already satisfied: pydantic<3,>=1.9.0 in /usr/local/lib/python3.11/dist-packages (from anthropic) (2.11.3)\n",
            "Requirement already satisfied: sniffio in /usr/local/lib/python3.11/dist-packages (from anthropic) (1.3.1)\n",
            "Requirement already satisfied: typing-extensions<5,>=4.10 in /usr/local/lib/python3.11/dist-packages (from anthropic) (4.13.2)\n",
            "Requirement already satisfied: idna>=2.8 in /usr/local/lib/python3.11/dist-packages (from anyio<5,>=3.5.0->anthropic) (3.10)\n",
            "Requirement already satisfied: certifi in /usr/local/lib/python3.11/dist-packages (from httpx<1,>=0.23.0->anthropic) (2025.1.31)\n",
            "Requirement already satisfied: httpcore==1.* in /usr/local/lib/python3.11/dist-packages (from httpx<1,>=0.23.0->anthropic) (1.0.8)\n",
            "Requirement already satisfied: h11<0.15,>=0.13 in /usr/local/lib/python3.11/dist-packages (from httpcore==1.*->httpx<1,>=0.23.0->anthropic) (0.14.0)\n",
            "Requirement already satisfied: annotated-types>=0.6.0 in /usr/local/lib/python3.11/dist-packages (from pydantic<3,>=1.9.0->anthropic) (0.7.0)\n",
            "Requirement already satisfied: pydantic-core==2.33.1 in /usr/local/lib/python3.11/dist-packages (from pydantic<3,>=1.9.0->anthropic) (2.33.1)\n",
            "Requirement already satisfied: typing-inspection>=0.4.0 in /usr/local/lib/python3.11/dist-packages (from pydantic<3,>=1.9.0->anthropic) (0.4.0)\n",
            "Requirement already satisfied: python-dotenv in /usr/local/lib/python3.11/dist-packages (1.1.0)\n"
          ]
        }
      ],
      "source": [
        "!pip install anthropic\n",
        "!pip install python-dotenv"
      ]
    },
    {
      "cell_type": "code",
      "execution_count": null,
      "metadata": {
        "id": "md7fC9rYFJuC"
      },
      "outputs": [],
      "source": [
        "import os\n",
        "import anthropic\n",
        "import json\n",
        "#from dotenv import load_dotenv\n",
        "from google.colab import userdata\n"
      ]
    },
    {
      "cell_type": "code",
      "execution_count": null,
      "metadata": {
        "id": "ps8JogLbGTeF"
      },
      "outputs": [],
      "source": [
        "api_key = userdata.get('ANTHROPIC_API_KEY')\n",
        "client = anthropic.Anthropic(\n",
        "    api_key=api_key\n",
        ")\n"
      ]
    },
    {
      "cell_type": "code",
      "execution_count": null,
      "metadata": {
        "id": "dEL_eZsOJ-WH"
      },
      "outputs": [],
      "source": [
        "# message = client.messages.create(\n",
        "#     model=\"claude-3-7-sonnet-20250219\",\n",
        "#     max_tokens=1024,\n",
        "#     messages=[\n",
        "#         {\"role\": \"user\", \"content\": \"Hello, Claude\"}\n",
        "#     ]\n",
        "# )\n",
        "# print(message)"
      ]
    },
    {
      "cell_type": "code",
      "execution_count": null,
      "metadata": {
        "id": "DW0na7qjPsYv"
      },
      "outputs": [],
      "source": []
    },
    {
      "cell_type": "code",
      "execution_count": null,
      "metadata": {
        "id": "7vfG0f22NwCh"
      },
      "outputs": [],
      "source": [
        "weather_tool = [\n",
        "    {\n",
        "        \"name\": \"get_weather\",\n",
        "        \"description\": \"Get the current weather\",\n",
        "        \"input_schema\": {\n",
        "            \"type\": \"object\",\n",
        "            \"properties\": {\n",
        "                \"location\": {\n",
        "                    \"type\": \"string\",\n",
        "                    \"description\": \"The city and country, e.g. Paris, France\"\n",
        "                }\n",
        "            },\n",
        "            \"required\": [\"location\"]\n",
        "        }\n",
        "    }\n",
        "]"
      ]
    },
    {
      "cell_type": "code",
      "execution_count": null,
      "metadata": {
        "id": "4Ys8SqdIR_Lh"
      },
      "outputs": [],
      "source": [
        "def is_european_location(location):\n",
        "    european_countries = [\n",
        "        \"france\", \"germany\", \"uk\", \"spain\", \"italy\", \"netherlands\",\n",
        "        \"belgium\", \"sweden\", \"norway\", \"finland\", \"denmark\", \"portugal\",\n",
        "        \"ireland\", \"switzerland\", \"austria\", \"poland\", \"greece\"\n",
        "    ]\n",
        "\n",
        "    location_lower = location.lower()\n",
        "\n",
        "    for country in european_countries:\n",
        "        if country in location_lower:\n",
        "            return True\n",
        "\n",
        "    european_cities = [\n",
        "        \"paris\", \"berlin\", \"london\", \"madrid\", \"rome\", \"amsterdam\",\n",
        "        \"brussels\", \"stockholm\", \"oslo\", \"helsinki\", \"copenhagen\",\n",
        "        \"lisbon\", \"dublin\", \"zurich\", \"vienna\", \"warsaw\", \"athens\"\n",
        "    ]\n",
        "\n",
        "    for city in european_cities:\n",
        "        if city in location_lower:\n",
        "            return True\n",
        "\n",
        "    return False\n"
      ]
    },
    {
      "cell_type": "code",
      "execution_count": null,
      "metadata": {
        "id": "-JRDHPzbR_Vc"
      },
      "outputs": [],
      "source": [
        "def get_weather_data(location):\n",
        "    # In a real implementation, we'd a weather API here\n",
        "\n",
        "    is_europe = is_european_location(location)\n",
        "    unit = \"celsius\" if is_europe else \"fahrenheit\"\n",
        "\n",
        "    temp = 20 if unit == \"celsius\" else 68\n",
        "\n",
        "    return {\n",
        "        \"location\": location,\n",
        "        \"temperature\": temp,\n",
        "        \"unit\": unit,\n",
        "        \"condition\": \"Partly cloudy\"\n",
        "    }\n"
      ]
    },
    {
      "cell_type": "code",
      "execution_count": null,
      "metadata": {
        "colab": {
          "base_uri": "https://localhost:8080/"
        },
        "id": "P7DcCbbPO-K5",
        "outputId": "829f4348-6c75-455a-bf13-991353651a06"
      },
      "outputs": [
        {
          "name": "stdout",
          "output_type": "stream",
          "text": [
            "Message(id='msg_012VwNSrnfhAgnU8vVbS3Ric', content=[TextBlock(citations=None, text='To get the current weather in Dresden, I can use the get_weather function. Let me fetch that information for you.', type='text'), ToolUseBlock(id='toolu_012phmYM5vmn34xL1CbSrcAn', input={'location': 'Dresden, Germany'}, name='get_weather', type='tool_use')], model='claude-3-5-sonnet-20240620', role='assistant', stop_reason='tool_use', stop_sequence=None, type='message', usage=Usage(cache_creation_input_tokens=0, cache_read_input_tokens=0, input_tokens=395, output_tokens=81))\n"
          ]
        }
      ],
      "source": [
        "response = client.messages.create(\n",
        "    model=\"claude-3-5-sonnet-20240620\",\n",
        "    max_tokens=1000,\n",
        "    system=\"You are a helpful assistant. Use the weather tool when asked about weather.\",\n",
        "    messages=[\n",
        "        {\"role\": \"user\", \"content\": \"What's the weather like today in Dresden?\"}\n",
        "    ],\n",
        "    tools=weather_tool\n",
        ")\n",
        "\n",
        "print(response)"
      ]
    },
    {
      "cell_type": "code",
      "execution_count": null,
      "metadata": {
        "id": "qB0A1K7xZ5a2"
      },
      "outputs": [],
      "source": [
        "def get_weather_response(user_query):\n",
        "    print(\"Step 1: Sending user query to Claude...\")\n",
        "    messages = [{\"role\": \"user\", \"content\": user_query}]\n",
        "\n",
        "    response = client.messages.create(\n",
        "        model=\"claude-3-5-sonnet-20240620\",\n",
        "        max_tokens=1000,\n",
        "        system=\"You are a helpful assistant. Use the weather tool when asked about the weather.\",\n",
        "        messages=messages,\n",
        "        tools=weather_tool\n",
        "    )\n",
        "\n",
        "    print(\"Response structure:\", type(response))\n",
        "    print(\"Response content length:\", len(response.content))\n",
        "    print(\"Content block types:\", [block.type for block in response.content])\n",
        "\n",
        "    # Check for tool_use blocks\n",
        "    has_tool_call = False\n",
        "    for content_block in response.content:\n",
        "        if content_block.type == \"tool_use\":\n",
        "            has_tool_call = True\n",
        "            print(\"Step 2: Claude is calling the weather tool...\")\n",
        "\n",
        "            # Access the fields directly\n",
        "            tool_name = content_block.name\n",
        "            tool_input = content_block.input\n",
        "            tool_id = content_block.id\n",
        "            location = tool_input.get(\"location\")\n",
        "\n",
        "            print(f\"Tool name: {tool_name}\")\n",
        "            print(f\"Tool id: {tool_id}\")\n",
        "            print(f\"Tool input: {tool_input}\")\n",
        "\n",
        "            # Add tool call to the conversation\n",
        "            messages.append({\n",
        "                \"role\": \"assistant\",\n",
        "                \"content\": [content_block]\n",
        "            })\n",
        "\n",
        "            # Execute weather function\n",
        "            print(f\"Step 3: Getting weather data for {location}...\")\n",
        "            weather_data = get_weather_data(location)\n",
        "            print(\"Weather data:\", weather_data)\n",
        "\n",
        "            # Here's the key fix: Format the result properly\n",
        "            # Convert to a simple string representation\n",
        "            result_string = json.dumps({\n",
        "                \"temperature\": weather_data[\"temperature\"],\n",
        "                \"unit\": weather_data[\"unit\"],\n",
        "                \"condition\": weather_data[\"condition\"]\n",
        "            })\n",
        "\n",
        "            print(f\"Formatted result: {result_string}\")\n",
        "\n",
        "            # Add tool result to the conversation with the proper format\n",
        "            messages.append({\n",
        "                \"role\": \"user\",\n",
        "                \"content\": [\n",
        "                    {\n",
        "                        \"type\": \"tool_result\",\n",
        "                        \"tool_use_id\": tool_id,\n",
        "                        \"result\": result_string\n",
        "                    }\n",
        "                ]\n",
        "            })\n",
        "\n",
        "            print(\"Step 4: Getting Claude's final response...\")\n",
        "            final_response = client.messages.create(\n",
        "                model=\"claude-3-5-sonnet-20240620\",\n",
        "                max_tokens=1000,\n",
        "                system=\"You are a helpful assistant. Use the weather tool when asked about the weather.\",\n",
        "                messages=messages,\n",
        "                tools=weather_tool\n",
        "            )\n",
        "\n",
        "            return final_response.content[0].text\n",
        "\n",
        "    # If no tool was used\n",
        "    if not has_tool_call:\n",
        "        print(\"Claude did not use the weather tool\")\n",
        "        return response.content[0].text"
      ]
    },
    {
      "cell_type": "code",
      "execution_count": null,
      "metadata": {
        "colab": {
          "base_uri": "https://localhost:8080/",
          "height": 538
        },
        "id": "RaSxdYFWS327",
        "outputId": "58122faa-5d88-48d7-a206-fc79a640109a"
      },
      "outputs": [
        {
          "name": "stdout",
          "output_type": "stream",
          "text": [
            "Step 1: Sending user query to Claude...\n",
            "Response structure: <class 'anthropic.types.message.Message'>\n",
            "Response content length: 2\n",
            "Content block types: ['text', 'tool_use']\n",
            "Step 2: Claude is calling the weather tool...\n",
            "Tool name: get_weather\n",
            "Tool id: toolu_01L6GF6YAuRvnNRrJxax9UZs\n",
            "Tool input: {'location': 'Dresden, Germany'}\n",
            "Step 3: Getting weather data for Dresden, Germany...\n",
            "Weather data: {'location': 'Dresden, Germany', 'temperature': 20, 'unit': 'celsius', 'condition': 'Partly cloudy'}\n",
            "Formatted result: {\"temperature\": 20, \"unit\": \"celsius\", \"condition\": \"Partly cloudy\"}\n",
            "Step 4: Getting Claude's final response...\n"
          ]
        },
        {
          "ename": "BadRequestError",
          "evalue": "Error code: 400 - {'type': 'error', 'error': {'type': 'invalid_request_error', 'message': 'messages.2.content.0.tool_result.result: Extra inputs are not permitted'}}",
          "output_type": "error",
          "traceback": [
            "\u001b[0;31m---------------------------------------------------------------------------\u001b[0m",
            "\u001b[0;31mBadRequestError\u001b[0m                           Traceback (most recent call last)",
            "\u001b[0;32m<ipython-input-69-6e69177866b7>\u001b[0m in \u001b[0;36m<cell line: 0>\u001b[0;34m()\u001b[0m\n\u001b[0;32m----> 1\u001b[0;31m \u001b[0mget_weather_response\u001b[0m\u001b[0;34m(\u001b[0m\u001b[0;34m\"What's the weather like in Dresden today?\"\u001b[0m\u001b[0;34m)\u001b[0m\u001b[0;34m\u001b[0m\u001b[0;34m\u001b[0m\u001b[0m\n\u001b[0m",
            "\u001b[0;32m<ipython-input-68-f70c75c6fec1>\u001b[0m in \u001b[0;36mget_weather_response\u001b[0;34m(user_query)\u001b[0m\n\u001b[1;32m     66\u001b[0m \u001b[0;34m\u001b[0m\u001b[0m\n\u001b[1;32m     67\u001b[0m             \u001b[0mprint\u001b[0m\u001b[0;34m(\u001b[0m\u001b[0;34m\"Step 4: Getting Claude's final response...\"\u001b[0m\u001b[0;34m)\u001b[0m\u001b[0;34m\u001b[0m\u001b[0;34m\u001b[0m\u001b[0m\n\u001b[0;32m---> 68\u001b[0;31m             final_response = client.messages.create(\n\u001b[0m\u001b[1;32m     69\u001b[0m                 \u001b[0mmodel\u001b[0m\u001b[0;34m=\u001b[0m\u001b[0;34m\"claude-3-5-sonnet-20240620\"\u001b[0m\u001b[0;34m,\u001b[0m\u001b[0;34m\u001b[0m\u001b[0;34m\u001b[0m\u001b[0m\n\u001b[1;32m     70\u001b[0m                 \u001b[0mmax_tokens\u001b[0m\u001b[0;34m=\u001b[0m\u001b[0;36m1000\u001b[0m\u001b[0;34m,\u001b[0m\u001b[0;34m\u001b[0m\u001b[0;34m\u001b[0m\u001b[0m\n",
            "\u001b[0;32m/usr/local/lib/python3.11/dist-packages/anthropic/_utils/_utils.py\u001b[0m in \u001b[0;36mwrapper\u001b[0;34m(*args, **kwargs)\u001b[0m\n\u001b[1;32m    273\u001b[0m                         \u001b[0mmsg\u001b[0m \u001b[0;34m=\u001b[0m \u001b[0;34mf\"Missing required argument: {quote(missing[0])}\"\u001b[0m\u001b[0;34m\u001b[0m\u001b[0;34m\u001b[0m\u001b[0m\n\u001b[1;32m    274\u001b[0m                 \u001b[0;32mraise\u001b[0m \u001b[0mTypeError\u001b[0m\u001b[0;34m(\u001b[0m\u001b[0mmsg\u001b[0m\u001b[0;34m)\u001b[0m\u001b[0;34m\u001b[0m\u001b[0;34m\u001b[0m\u001b[0m\n\u001b[0;32m--> 275\u001b[0;31m             \u001b[0;32mreturn\u001b[0m \u001b[0mfunc\u001b[0m\u001b[0;34m(\u001b[0m\u001b[0;34m*\u001b[0m\u001b[0margs\u001b[0m\u001b[0;34m,\u001b[0m \u001b[0;34m**\u001b[0m\u001b[0mkwargs\u001b[0m\u001b[0;34m)\u001b[0m\u001b[0;34m\u001b[0m\u001b[0;34m\u001b[0m\u001b[0m\n\u001b[0m\u001b[1;32m    276\u001b[0m \u001b[0;34m\u001b[0m\u001b[0m\n\u001b[1;32m    277\u001b[0m         \u001b[0;32mreturn\u001b[0m \u001b[0mwrapper\u001b[0m  \u001b[0;31m# type: ignore\u001b[0m\u001b[0;34m\u001b[0m\u001b[0;34m\u001b[0m\u001b[0m\n",
            "\u001b[0;32m/usr/local/lib/python3.11/dist-packages/anthropic/resources/messages/messages.py\u001b[0m in \u001b[0;36mcreate\u001b[0;34m(self, max_tokens, messages, model, metadata, stop_sequences, stream, system, temperature, thinking, tool_choice, tools, top_k, top_p, extra_headers, extra_query, extra_body, timeout)\u001b[0m\n\u001b[1;32m    951\u001b[0m             )\n\u001b[1;32m    952\u001b[0m \u001b[0;34m\u001b[0m\u001b[0m\n\u001b[0;32m--> 953\u001b[0;31m         return self._post(\n\u001b[0m\u001b[1;32m    954\u001b[0m             \u001b[0;34m\"/v1/messages\"\u001b[0m\u001b[0;34m,\u001b[0m\u001b[0;34m\u001b[0m\u001b[0;34m\u001b[0m\u001b[0m\n\u001b[1;32m    955\u001b[0m             body=maybe_transform(\n",
            "\u001b[0;32m/usr/local/lib/python3.11/dist-packages/anthropic/_base_client.py\u001b[0m in \u001b[0;36mpost\u001b[0;34m(self, path, cast_to, body, options, files, stream, stream_cls)\u001b[0m\n\u001b[1;32m   1334\u001b[0m             \u001b[0mmethod\u001b[0m\u001b[0;34m=\u001b[0m\u001b[0;34m\"post\"\u001b[0m\u001b[0;34m,\u001b[0m \u001b[0murl\u001b[0m\u001b[0;34m=\u001b[0m\u001b[0mpath\u001b[0m\u001b[0;34m,\u001b[0m \u001b[0mjson_data\u001b[0m\u001b[0;34m=\u001b[0m\u001b[0mbody\u001b[0m\u001b[0;34m,\u001b[0m \u001b[0mfiles\u001b[0m\u001b[0;34m=\u001b[0m\u001b[0mto_httpx_files\u001b[0m\u001b[0;34m(\u001b[0m\u001b[0mfiles\u001b[0m\u001b[0;34m)\u001b[0m\u001b[0;34m,\u001b[0m \u001b[0;34m**\u001b[0m\u001b[0moptions\u001b[0m\u001b[0;34m\u001b[0m\u001b[0;34m\u001b[0m\u001b[0m\n\u001b[1;32m   1335\u001b[0m         )\n\u001b[0;32m-> 1336\u001b[0;31m         \u001b[0;32mreturn\u001b[0m \u001b[0mcast\u001b[0m\u001b[0;34m(\u001b[0m\u001b[0mResponseT\u001b[0m\u001b[0;34m,\u001b[0m \u001b[0mself\u001b[0m\u001b[0;34m.\u001b[0m\u001b[0mrequest\u001b[0m\u001b[0;34m(\u001b[0m\u001b[0mcast_to\u001b[0m\u001b[0;34m,\u001b[0m \u001b[0mopts\u001b[0m\u001b[0;34m,\u001b[0m \u001b[0mstream\u001b[0m\u001b[0;34m=\u001b[0m\u001b[0mstream\u001b[0m\u001b[0;34m,\u001b[0m \u001b[0mstream_cls\u001b[0m\u001b[0;34m=\u001b[0m\u001b[0mstream_cls\u001b[0m\u001b[0;34m)\u001b[0m\u001b[0;34m)\u001b[0m\u001b[0;34m\u001b[0m\u001b[0;34m\u001b[0m\u001b[0m\n\u001b[0m\u001b[1;32m   1337\u001b[0m \u001b[0;34m\u001b[0m\u001b[0m\n\u001b[1;32m   1338\u001b[0m     def patch(\n",
            "\u001b[0;32m/usr/local/lib/python3.11/dist-packages/anthropic/_base_client.py\u001b[0m in \u001b[0;36mrequest\u001b[0;34m(self, cast_to, options, remaining_retries, stream, stream_cls)\u001b[0m\n\u001b[1;32m   1011\u001b[0m             \u001b[0mretries_taken\u001b[0m \u001b[0;34m=\u001b[0m \u001b[0;36m0\u001b[0m\u001b[0;34m\u001b[0m\u001b[0;34m\u001b[0m\u001b[0m\n\u001b[1;32m   1012\u001b[0m \u001b[0;34m\u001b[0m\u001b[0m\n\u001b[0;32m-> 1013\u001b[0;31m         return self._request(\n\u001b[0m\u001b[1;32m   1014\u001b[0m             \u001b[0mcast_to\u001b[0m\u001b[0;34m=\u001b[0m\u001b[0mcast_to\u001b[0m\u001b[0;34m,\u001b[0m\u001b[0;34m\u001b[0m\u001b[0;34m\u001b[0m\u001b[0m\n\u001b[1;32m   1015\u001b[0m             \u001b[0moptions\u001b[0m\u001b[0;34m=\u001b[0m\u001b[0moptions\u001b[0m\u001b[0;34m,\u001b[0m\u001b[0;34m\u001b[0m\u001b[0;34m\u001b[0m\u001b[0m\n",
            "\u001b[0;32m/usr/local/lib/python3.11/dist-packages/anthropic/_base_client.py\u001b[0m in \u001b[0;36m_request\u001b[0;34m(self, cast_to, options, retries_taken, stream, stream_cls)\u001b[0m\n\u001b[1;32m   1115\u001b[0m \u001b[0;34m\u001b[0m\u001b[0m\n\u001b[1;32m   1116\u001b[0m             \u001b[0mlog\u001b[0m\u001b[0;34m.\u001b[0m\u001b[0mdebug\u001b[0m\u001b[0;34m(\u001b[0m\u001b[0;34m\"Re-raising status error\"\u001b[0m\u001b[0;34m)\u001b[0m\u001b[0;34m\u001b[0m\u001b[0;34m\u001b[0m\u001b[0m\n\u001b[0;32m-> 1117\u001b[0;31m             \u001b[0;32mraise\u001b[0m \u001b[0mself\u001b[0m\u001b[0;34m.\u001b[0m\u001b[0m_make_status_error_from_response\u001b[0m\u001b[0;34m(\u001b[0m\u001b[0merr\u001b[0m\u001b[0;34m.\u001b[0m\u001b[0mresponse\u001b[0m\u001b[0;34m)\u001b[0m \u001b[0;32mfrom\u001b[0m \u001b[0;32mNone\u001b[0m\u001b[0;34m\u001b[0m\u001b[0;34m\u001b[0m\u001b[0m\n\u001b[0m\u001b[1;32m   1118\u001b[0m \u001b[0;34m\u001b[0m\u001b[0m\n\u001b[1;32m   1119\u001b[0m         return self._process_response(\n",
            "\u001b[0;31mBadRequestError\u001b[0m: Error code: 400 - {'type': 'error', 'error': {'type': 'invalid_request_error', 'message': 'messages.2.content.0.tool_result.result: Extra inputs are not permitted'}}"
          ]
        }
      ],
      "source": [
        "get_weather_response(\"What's the weather like in Dresden today?\")\n"
      ]
    },
    {
      "cell_type": "code",
      "execution_count": null,
      "metadata": {
        "id": "0ip6e3g_VD0u"
      },
      "outputs": [],
      "source": []
    }
  ],
  "metadata": {
    "colab": {
      "provenance": []
    },
    "kernelspec": {
      "display_name": "Python 3",
      "name": "python3"
    },
    "language_info": {
      "name": "python",
      "version": "3.12.10"
    }
  },
  "nbformat": 4,
  "nbformat_minor": 0
}
